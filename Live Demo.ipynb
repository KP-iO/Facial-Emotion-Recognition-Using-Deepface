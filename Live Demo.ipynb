{
 "cells": [
  {
   "cell_type": "code",
   "execution_count": 3,
   "id": "61b89b4b",
   "metadata": {},
   "outputs": [],
   "source": [
    "import cv2"
   ]
  },
  {
   "cell_type": "code",
   "execution_count": 4,
   "id": "59030d72",
   "metadata": {},
   "outputs": [],
   "source": [
    "from deepface import DeepFace\n"
   ]
  },
  {
   "cell_type": "code",
   "execution_count": 5,
   "id": "b7062368",
   "metadata": {},
   "outputs": [
    {
     "name": "stderr",
     "output_type": "stream",
     "text": [
      "Action: emotion: 100%|████████████████████████████| 1/1 [00:00<00:00,  5.57it/s]\n",
      "Action: emotion: 100%|████████████████████████████| 1/1 [00:00<00:00, 18.77it/s]\n",
      "Action: emotion: 100%|████████████████████████████| 1/1 [00:00<00:00, 19.14it/s]\n",
      "Action: emotion: 100%|████████████████████████████| 1/1 [00:00<00:00, 19.24it/s]\n",
      "Action: emotion: 100%|████████████████████████████| 1/1 [00:00<00:00, 19.86it/s]\n",
      "Action: emotion: 100%|████████████████████████████| 1/1 [00:00<00:00, 21.09it/s]\n",
      "Action: emotion: 100%|████████████████████████████| 1/1 [00:00<00:00, 20.82it/s]\n",
      "Action: emotion: 100%|████████████████████████████| 1/1 [00:00<00:00, 19.95it/s]\n",
      "Action: emotion: 100%|████████████████████████████| 1/1 [00:00<00:00, 21.13it/s]\n",
      "Action: emotion: 100%|████████████████████████████| 1/1 [00:00<00:00, 20.75it/s]\n",
      "Action: emotion: 100%|████████████████████████████| 1/1 [00:00<00:00, 19.85it/s]\n",
      "Action: emotion: 100%|████████████████████████████| 1/1 [00:00<00:00, 21.17it/s]\n",
      "Action: emotion: 100%|████████████████████████████| 1/1 [00:00<00:00, 20.55it/s]\n",
      "Action: emotion: 100%|████████████████████████████| 1/1 [00:00<00:00, 20.57it/s]\n",
      "Action: emotion: 100%|████████████████████████████| 1/1 [00:00<00:00, 20.52it/s]\n"
     ]
    },
    {
     "ename": "ValueError",
     "evalue": "Face could not be detected. Please confirm that the picture is a face photo or consider to set enforce_detection param to False.",
     "output_type": "error",
     "traceback": [
      "\u001b[0;31m---------------------------------------------------------------------------\u001b[0m",
      "\u001b[0;31mValueError\u001b[0m                                Traceback (most recent call last)",
      "\u001b[0;32m/var/folders/1d/v3lv8nm90xq_6jn6zzd9bd0h0000gn/T/ipykernel_12207/3989174213.py\u001b[0m in \u001b[0;36m<module>\u001b[0;34m\u001b[0m\n\u001b[1;32m     13\u001b[0m \u001b[0;31m#     read one image from the video whilst its conuiously running\u001b[0m\u001b[0;34m\u001b[0m\u001b[0;34m\u001b[0m\u001b[0;34m\u001b[0m\u001b[0m\n\u001b[1;32m     14\u001b[0m     \u001b[0mret\u001b[0m\u001b[0;34m,\u001b[0m\u001b[0mframe\u001b[0m \u001b[0;34m=\u001b[0m \u001b[0mcap\u001b[0m\u001b[0;34m.\u001b[0m\u001b[0mread\u001b[0m\u001b[0;34m(\u001b[0m\u001b[0;34m)\u001b[0m\u001b[0;34m\u001b[0m\u001b[0;34m\u001b[0m\u001b[0m\n\u001b[0;32m---> 15\u001b[0;31m     \u001b[0mresult\u001b[0m \u001b[0;34m=\u001b[0m \u001b[0mDeepFace\u001b[0m\u001b[0;34m.\u001b[0m\u001b[0manalyze\u001b[0m\u001b[0;34m(\u001b[0m\u001b[0mframe\u001b[0m\u001b[0;34m,\u001b[0m \u001b[0mactions\u001b[0m \u001b[0;34m=\u001b[0m\u001b[0;34m[\u001b[0m\u001b[0;34m'emotion'\u001b[0m\u001b[0;34m]\u001b[0m\u001b[0;34m)\u001b[0m\u001b[0;34m\u001b[0m\u001b[0;34m\u001b[0m\u001b[0m\n\u001b[0m\u001b[1;32m     16\u001b[0m \u001b[0;31m#     Have to conver to grey image to draw rectangle\u001b[0m\u001b[0;34m\u001b[0m\u001b[0;34m\u001b[0m\u001b[0;34m\u001b[0m\u001b[0m\n\u001b[1;32m     17\u001b[0m     \u001b[0mgray\u001b[0m \u001b[0;34m=\u001b[0m \u001b[0mcv2\u001b[0m\u001b[0;34m.\u001b[0m\u001b[0mcvtColor\u001b[0m\u001b[0;34m(\u001b[0m\u001b[0mframe\u001b[0m\u001b[0;34m,\u001b[0m\u001b[0mcv2\u001b[0m\u001b[0;34m.\u001b[0m\u001b[0mCOLOR_BGR2GRAY\u001b[0m\u001b[0;34m)\u001b[0m\u001b[0;34m\u001b[0m\u001b[0;34m\u001b[0m\u001b[0m\n",
      "\u001b[0;32m~/opt/anaconda3/envs/ComputerVision/lib/python3.7/site-packages/deepface/DeepFace.py\u001b[0m in \u001b[0;36manalyze\u001b[0;34m(img_path, actions, enforce_detection, detector_backend, align, silent)\u001b[0m\n\u001b[1;32m    317\u001b[0m         \u001b[0mgrayscale\u001b[0m\u001b[0;34m=\u001b[0m\u001b[0;32mFalse\u001b[0m\u001b[0;34m,\u001b[0m\u001b[0;34m\u001b[0m\u001b[0;34m\u001b[0m\u001b[0m\n\u001b[1;32m    318\u001b[0m         \u001b[0menforce_detection\u001b[0m\u001b[0;34m=\u001b[0m\u001b[0menforce_detection\u001b[0m\u001b[0;34m,\u001b[0m\u001b[0;34m\u001b[0m\u001b[0;34m\u001b[0m\u001b[0m\n\u001b[0;32m--> 319\u001b[0;31m         \u001b[0malign\u001b[0m\u001b[0;34m=\u001b[0m\u001b[0malign\u001b[0m\u001b[0;34m,\u001b[0m\u001b[0;34m\u001b[0m\u001b[0;34m\u001b[0m\u001b[0m\n\u001b[0m\u001b[1;32m    320\u001b[0m     )\n\u001b[1;32m    321\u001b[0m \u001b[0;34m\u001b[0m\u001b[0m\n",
      "\u001b[0;32m~/opt/anaconda3/envs/ComputerVision/lib/python3.7/site-packages/deepface/commons/functions.py\u001b[0m in \u001b[0;36mextract_faces\u001b[0;34m(img, target_size, detector_backend, grayscale, enforce_detection, align)\u001b[0m\n\u001b[1;32m    114\u001b[0m     \u001b[0;32mif\u001b[0m \u001b[0mlen\u001b[0m\u001b[0;34m(\u001b[0m\u001b[0mface_objs\u001b[0m\u001b[0;34m)\u001b[0m \u001b[0;34m==\u001b[0m \u001b[0;36m0\u001b[0m \u001b[0;32mand\u001b[0m \u001b[0menforce_detection\u001b[0m \u001b[0;32mis\u001b[0m \u001b[0;32mTrue\u001b[0m\u001b[0;34m:\u001b[0m\u001b[0;34m\u001b[0m\u001b[0;34m\u001b[0m\u001b[0m\n\u001b[1;32m    115\u001b[0m         raise ValueError(\n\u001b[0;32m--> 116\u001b[0;31m             \u001b[0;34m\"Face could not be detected. Please confirm that the picture is a face photo \"\u001b[0m\u001b[0;34m\u001b[0m\u001b[0;34m\u001b[0m\u001b[0m\n\u001b[0m\u001b[1;32m    117\u001b[0m             \u001b[0;34m+\u001b[0m \u001b[0;34m\"or consider to set enforce_detection param to False.\"\u001b[0m\u001b[0;34m\u001b[0m\u001b[0;34m\u001b[0m\u001b[0m\n\u001b[1;32m    118\u001b[0m         )\n",
      "\u001b[0;31mValueError\u001b[0m: Face could not be detected. Please confirm that the picture is a face photo or consider to set enforce_detection param to False."
     ]
    }
   ],
   "source": [
    "# Haar Cascade is a feature-based object detection algorithm to detect objects from images.\n",
    "# face cascade detects the faces\n",
    "faceCascade = cv2.CascadeClassifier(cv2.data.haarcascades + 'haarcascade_frontalface_default.xml')\n",
    "cap = cv2.VideoCapture(0)\n",
    "\n",
    "# Check if our webcam is opened correctly\n",
    "if not cap.isOpened():\n",
    "    cap = cv2.VideoCapture(0)\n",
    "if not cap.isOpened():\n",
    "    raise IOError(\"Cannot Open Webcam\")\n",
    "    \n",
    "while True:\n",
    "#     read one image from the video whilst its conuiously running\n",
    "    ret,frame = cap.read() \n",
    "    result = DeepFace.analyze(frame, actions =['emotion'])\n",
    "#     Have to conver to grey image to draw rectangle\n",
    "    gray = cv2.cvtColor(frame,cv2.COLOR_BGR2GRAY)\n",
    "\n",
    "    faces = faceCascade.detectMultiScale(gray, 1.1, 4)\n",
    "#     Draw a rectangle around the faces\n",
    "    for(x, y, w, h) in faces:\n",
    "        cv2.rectangle(frame, (x,y), (x+w, y+h), (0,255,0), 2)\n",
    "    #                 image.   Drawing BOX          (BGR)\n",
    "    font = cv2.FONT_HERSHEY_SIMPLEX\n",
    "\n",
    "# Use PutText method to put text over image or video\n",
    "\n",
    "    cv2.putText(frame,\n",
    "                result[0]['dominant_emotion'],\n",
    "               (50,50),\n",
    "                font, 3,\n",
    "                (0,0,255),\n",
    "                2,\n",
    "                cv2.LINE_4)\n",
    "    cv2.imshow('Original Video', frame)\n",
    "    \n",
    "    if cv2.waitKey(2) & 0xFF ==ord('q'):\n",
    "        break\n",
    "        \n",
    "cap.release()\n",
    "cv2.destroyAllWindows()\n",
    "    "
   ]
  },
  {
   "cell_type": "code",
   "execution_count": null,
   "id": "5b4ac289",
   "metadata": {},
   "outputs": [],
   "source": []
  }
 ],
 "metadata": {
  "kernelspec": {
   "display_name": "Python 3 (ipykernel)",
   "language": "python",
   "name": "python3"
  },
  "language_info": {
   "codemirror_mode": {
    "name": "ipython",
    "version": 3
   },
   "file_extension": ".py",
   "mimetype": "text/x-python",
   "name": "python",
   "nbconvert_exporter": "python",
   "pygments_lexer": "ipython3",
   "version": "3.7.16"
  }
 },
 "nbformat": 4,
 "nbformat_minor": 5
}
